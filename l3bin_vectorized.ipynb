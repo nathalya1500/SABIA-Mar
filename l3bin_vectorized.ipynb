{
 "cells": [
  {
   "cell_type": "code",
   "execution_count": 1,
   "id": "1fc9eb3b-a3d4-4ed5-9813-93bf251b3f64",
   "metadata": {},
   "outputs": [],
   "source": [
    "import numpy as np\n",
    "import pandas as pd\n",
    "import matplotlib.pyplot as plt\n",
    "import hpy as h5\n",
    "from tqdm import tqdm\n",
    "import warnings\n",
    "import time\n",
    "warnings.filterwarnings('ignore')"
   ]
  },
  {
   "cell_type": "markdown",
   "id": "e706bf42-1b73-490b-b45f-5342afaab62a",
   "metadata": {},
   "source": [
    "# Funciones para binnear"
   ]
  },
  {
   "cell_type": "code",
   "execution_count": 2,
   "id": "62c83e29-246a-48c4-9440-de260dbc4a84",
   "metadata": {},
   "outputs": [],
   "source": [
    "def initbin(numrows):\n",
    "    basebin = np.zeros((numrows,))\n",
    "    latbin = np.zeros((numrows,))\n",
    "    numbin = np.zeros((numrows,))\n",
    "    basebin[0] = 1\n",
    "    for row in range(numrows):\n",
    "        latbin[row] = ((row + 0.5)*180.0/numrows) - 90.0\n",
    "        numbin[row] = int(2*numrows*np.cos(latbin[row]*np.pi/180.0) + 0.5)\n",
    "        if(row > 0):\n",
    "            basebin[row] = basebin[row - 1] + numbin[row - 1]\n",
    "    totbins = basebin[numrows - 1] + numbin[numrows - 1] - 1  \n",
    "    return totbins, basebin, numbin, latbin"
   ]
  },
  {
   "cell_type": "code",
   "execution_count": 3,
   "id": "31271469-2878-43fb-94c0-8510c8becfe1",
   "metadata": {},
   "outputs": [],
   "source": [
    "def lat2row(lat, numrows):\n",
    "    row = 0*lat\n",
    "    row = (90 + lat)*numrows/180.0\n",
    "    row = row.astype(int)\n",
    "    row[row>=numrows] = numrows - 1\n",
    "    return row"
   ]
  },
  {
   "cell_type": "code",
   "execution_count": 4,
   "id": "7edd3686-46bc-4a3e-bf4b-90a74a99ca0c",
   "metadata": {},
   "outputs": [],
   "source": [
    "def constrain_lon(lon):\n",
    "    lon[lon < -180] = lon[lon < -180] % 180\n",
    "    lon[lon>180] = lon[lon>180] % -180\n",
    "    # while(lon < -180):\n",
    "    #     lon += 360\n",
    "    # while(lon >  180):\n",
    "    #     lon -= 360 \n",
    "    return lon"
   ]
  },
  {
   "cell_type": "code",
   "execution_count": 5,
   "id": "f09e0a8e-a4ed-4b50-9389-7b844f056d8b",
   "metadata": {},
   "outputs": [],
   "source": [
    "def rowlon2bin(row, lon, numbin, basebin):\n",
    "    lon = constrain_lon(lon)\n",
    "    col = ((lon + 180.0)*numbin[row]/360.0)\n",
    "    col = col.astype(int)\n",
    "    mask = np.where(col >= numbin[row])\n",
    "    col[mask] = numbin[row[mask]] - 1 \n",
    "    # if(col >= numbin[row]):\n",
    "    #     col = numbin[row] - 1\n",
    "\n",
    "    return basebin[row] + col"
   ]
  },
  {
   "cell_type": "code",
   "execution_count": 6,
   "id": "fda6990b-dd2c-4f61-a45b-ddb699ef47d7",
   "metadata": {
    "tags": []
   },
   "outputs": [],
   "source": [
    "def constrain_lat(lat):\n",
    "    lat[lat>90] = 90\n",
    "    lat[lat<-90] = -90\n",
    "    # if(lat >  90):\n",
    "    #     lat = 90\n",
    "    # if(lat < -90): \n",
    "    #     lat = -90 \n",
    "    return lat"
   ]
  },
  {
   "cell_type": "code",
   "execution_count": 7,
   "id": "c8200600-6074-4eac-a36f-f53b94202d8b",
   "metadata": {
    "tags": []
   },
   "outputs": [],
   "source": [
    "def latlon2bin(numrow,lat,lon,numbin,basebin):\n",
    "    lat = constrain_lat(lat)\n",
    "    lon = constrain_lon(lon)\n",
    "\n",
    "    row = lat2row(lat, numrow)\n",
    "    binlon = rowlon2bin(row, lon, numbin, basebin)\n",
    "\n",
    "    return binlon "
   ]
  },
  {
   "cell_type": "code",
   "execution_count": 8,
   "id": "83ad11be-05fd-44ac-b451-1cf7a457d913",
   "metadata": {},
   "outputs": [],
   "source": [
    "# Falta vectorizar\n",
    "def bin2latlon (_bin, numrows, basebin, numbin, latbin):\n",
    "    row = numrows - 1\n",
    "    if(_bin < 1):\n",
    "        _bin = 1\n",
    "\n",
    "    while(_bin < basebin[row]):\n",
    "        row-=1\n",
    "\n",
    "    clat = latbin[row]\n",
    "    clon = 360.0*(_bin - basebin[row] + 0.5)/numbin[row] - 180.0\n",
    "    \n",
    "    return clat,clon\n",
    "\n",
    "def bin2bounds(_bin, numrows, basebin, numbin, latbin):\n",
    "    row = numrows - 1\n",
    "    if(_bin < 1):\n",
    "        _bin = 1\n",
    "\n",
    "    while(_bin < basebin[row]):\n",
    "        row-=1\n",
    "\n",
    "    north = latbin[row] + 90.0/numrows\n",
    "    south = latbin[row] - 90.0/numrows\n",
    "    lon = 360.0*(_bin - basebin[row] + 0.5)/numbin[row] - 180.0\n",
    "    west = lon - 180.0/numbin[row]\n",
    "    east = lon + 180.0/numbin[row]\n",
    "    return north,south,west,east"
   ]
  },
  {
   "cell_type": "markdown",
   "id": "719f1c2a-cb06-476f-8d24-6a7b7979c0ee",
   "metadata": {},
   "source": [
    "# Binneado"
   ]
  },
  {
   "cell_type": "code",
   "execution_count": 9,
   "id": "d09cca61-3a5a-4b4d-b695-bab662dd7907",
   "metadata": {},
   "outputs": [],
   "source": [
    "# def get_obs_data(ds, product_list, row_idx):\n",
    "#     return np.array([ds['geophysical_data'][product_list[i]][row_idx,:] for i in range(len(product_list))]).T    "
   ]
  },
  {
   "cell_type": "code",
   "execution_count": 10,
   "id": "124379d8-f9eb-4ee9-b3b3-4311cec64d9e",
   "metadata": {},
   "outputs": [],
   "source": [
    "# %%time\n",
    "# Nota: get_bin_index se corresponde con la funcion latlon2bin y devuelve el numero del bin al que corresponde dada lat, lon\n",
    "# NSCANS = 3173  # es el nummero de filas del granulo\n",
    "# NPIXEL = 1468 # es el numero de columnas del granulo\n",
    "\n",
    "# def get_stats(NSCANS, NPIXEL, LAT, LON, numrow, numbin, basebin, ds, products):\n",
    "#     for L in tqdm(range(NSCANS)):\n",
    "#         for I in range(NPIXEL):\n",
    "#             #if OBS\n",
    "#             t1 \n",
    "#             IDX = int(latlon2bin(numrow,LAT[L,I],LON[L,I],numbin,basebin))\n",
    "#             OBS = get_obs_data(ds, products, L)\n",
    "#             for J in range(NVARS):\n",
    "#                 XLOG = np.log(OBS[I,J])\n",
    "#                 # print(SUMX[IDX,J], XLOG)\n",
    "#                 SUMX[IDX,J] += XLOG\n",
    "#                 SUMXX[IDX,J] += XLOG*XLOG\n",
    "#             N[IDX] = N[IDX] + 1\n",
    "#             NSEG[IDX] = 1\n",
    "            \n",
    "#     SUMX2 = np.zeros((int(totbins), NVARS))\n",
    "#     SUMXX2 = np.zeros((int(totbins), NVARS))\n",
    "#     for IDX in tqdm(range(int(totbins))):\n",
    "#         if N[IDX] > 0:\n",
    "#             W[IDX] = np.sqrt(N[IDX])\n",
    "#             for J in range(NVARS):\n",
    "#                 SUMX2[IDX, J] = SUMX[IDX, J] / W[IDX]\n",
    "#                 SUMXX2[IDX, J] = SUMXX[IDX, J] / W[IDX]\n",
    "    \n",
    "#     return SUMX, SUMXX, SUMX2, SUMXX2, N, W, NSEG"
   ]
  },
  {
   "cell_type": "code",
   "execution_count": 24,
   "id": "33ba671e-85b5-4c61-81e9-81d1b82e7960",
   "metadata": {},
   "outputs": [],
   "source": [
    "def get_spatial_bin_vectorized(NVARS, lat, lon, numrow, numbin, basebin, ds, products):\n",
    "    SUMX = np.zeros((int(totbins), NVARS))\n",
    "    SUMXX = np.zeros((int(totbins), NVARS))\n",
    "    SUMXw = np.zeros((int(totbins), NVARS))\n",
    "    SUMXXw = np.zeros((int(totbins), NVARS))\n",
    "    N =  np.zeros((int(totbins), ))\n",
    "    W =  np.zeros((int(totbins), ))\n",
    "    NSEG = np.zeros((int(totbins), ))\n",
    "    TT = np.zeros((int(totbins), ))\n",
    "    \n",
    "    idx = latlon2bin(numrow, lat, lon, numbin, basebin)\n",
    "    idx = idx.astype(int)\n",
    "    prod_stack = np.stack(ds['geophysical_data'][products[i]][:] for i in range(len(products)))\n",
    "    prod_rolled = np.rollaxis(np.rollaxis(prod_stack, 1,0), 2,1)\n",
    "    XLOG = np.log(prod_rolled)\n",
    "    XXLOG = XLOG * XLOG\n",
    "    \n",
    "    for i in range(NVARS):\n",
    "        SUMX[idx, i] = XLOG[:,:,i]\n",
    "        SUMXX[idx, i] = XXLOG[:,:,i]\n",
    "    \n",
    "    unique, count = np.unique(idx, return_counts=True)\n",
    "    N[unique] = count\n",
    "    W[unique] = np.sqrt(count)\n",
    "    \n",
    "    NSEG[idx] = 1 \n",
    "    \n",
    "    for i in range(NVARS):\n",
    "        SUMXw[idx, i] = SUMX[idx, i]/W[idx]\n",
    "        SUMXXw[idx, i] = SUMXX[idx, i]/W[idx]\n",
    "    \n",
    "    return SUMX, SUMXX, SUMXw, SUMXXw, N, W, NSEG    "
   ]
  },
  {
   "cell_type": "markdown",
   "id": "8de8c8c2-cbd2-49e2-8ef0-374357d1c486",
   "metadata": {},
   "source": [
    "# Binneando un L2 de MODIS"
   ]
  },
  {
   "cell_type": "markdown",
   "id": "2d5c681c-d822-4b5c-a45e-537a3defbf04",
   "metadata": {},
   "source": [
    "## Exploremos el netCDF de MODIS"
   ]
  },
  {
   "cell_type": "code",
   "execution_count": 12,
   "id": "c1303b52-c3ef-4037-a35f-67ef6abf6272",
   "metadata": {},
   "outputs": [
    {
     "data": {
      "text/plain": [
       "<KeysViewHDF5 ['bands_per_pixel', 'geophysical_data', 'navigation_data', 'number_of_bands', 'number_of_lines', 'number_of_reflective_bands', 'pixel_control_points', 'pixels_per_line', 'processing_control', 'scan_line_attributes', 'sensor_band_parameters']>"
      ]
     },
     "execution_count": 12,
     "metadata": {},
     "output_type": "execute_result"
    }
   ],
   "source": [
    "file = 'l2modis/A2022160171000.L2_LAC_OC.nc'\n",
    "l2modis = h5.File(file,'r')\n",
    "l2modis.keys()"
   ]
  },
  {
   "cell_type": "code",
   "execution_count": 13,
   "id": "71e37312-a959-4cc3-ba87-2ef511c73990",
   "metadata": {},
   "outputs": [
    {
     "data": {
      "text/plain": [
       "<KeysViewHDF5 ['longitude', 'latitude', 'cntl_pt_cols', 'cntl_pt_rows', 'tilt']>"
      ]
     },
     "execution_count": 13,
     "metadata": {},
     "output_type": "execute_result"
    }
   ],
   "source": [
    "l2modis['navigation_data'].keys()"
   ]
  },
  {
   "cell_type": "code",
   "execution_count": 14,
   "id": "28c9654f-3c4a-46b5-934a-0be226ec2df0",
   "metadata": {},
   "outputs": [
    {
     "data": {
      "text/plain": [
       "<KeysViewHDF5 ['aot_869', 'angstrom', 'Rrs_412', 'Rrs_443', 'Rrs_469', 'Rrs_488', 'Rrs_531', 'Rrs_547', 'Rrs_555', 'Rrs_645', 'Rrs_667', 'Rrs_678', 'chlor_a', 'chl_ocx', 'Kd_490', 'pic', 'poc', 'ipar', 'nflh', 'par', 'l2_flags']>"
      ]
     },
     "execution_count": 14,
     "metadata": {},
     "output_type": "execute_result"
    }
   ],
   "source": [
    "modisprod = list(l2modis['geophysical_data'].keys())[:-1]\n",
    "l2modis['geophysical_data'].keys()"
   ]
  },
  {
   "cell_type": "code",
   "execution_count": 15,
   "id": "a5b3756a-37e2-4981-8a90-60a96fd3827e",
   "metadata": {},
   "outputs": [
    {
     "data": {
      "text/plain": [
       "1354"
      ]
     },
     "execution_count": 15,
     "metadata": {},
     "output_type": "execute_result"
    }
   ],
   "source": [
    "l2modis['pixels_per_line'][:].size"
   ]
  },
  {
   "cell_type": "code",
   "execution_count": 16,
   "id": "1443276c-89c4-49cd-b739-13b4d3507149",
   "metadata": {},
   "outputs": [
    {
     "data": {
      "text/plain": [
       "(2030, 1354)"
      ]
     },
     "execution_count": 16,
     "metadata": {},
     "output_type": "execute_result"
    }
   ],
   "source": [
    "l2modis['navigation_data']['longitude'].shape"
   ]
  },
  {
   "cell_type": "code",
   "execution_count": 17,
   "id": "fffc3e84-935e-4a98-83ad-235c3c92fe58",
   "metadata": {},
   "outputs": [],
   "source": [
    "numrow = 4320\n",
    "\n",
    "LAT = l2modis['navigation_data']['latitude'][:]\n",
    "LON = l2modis['navigation_data']['longitude'][:]"
   ]
  },
  {
   "cell_type": "code",
   "execution_count": 18,
   "id": "a8f7cd11-55aa-40ce-851d-53c8c531b638",
   "metadata": {},
   "outputs": [
    {
     "data": {
      "text/plain": [
       "array([[  1265,   1264,   1264, ...,   1171,   1171,   1171],\n",
       "       [  1265,   1265,   1264, ...,   1171,   1171,   1171],\n",
       "       [  1265,   1265,   1265, ...,   1172,   1172,   1172],\n",
       "       ...,\n",
       "       [-21816, -21816, -21816, ..., -21816, -21816, -21816],\n",
       "       [-21816, -21816, -21816, ..., -21816, -21816, -21816],\n",
       "       [-21816, -21816, -21816, ..., -21816, -21816, -21816]])"
      ]
     },
     "execution_count": 18,
     "metadata": {},
     "output_type": "execute_result"
    }
   ],
   "source": [
    "lat2row(LAT, numrow)"
   ]
  },
  {
   "cell_type": "code",
   "execution_count": 19,
   "id": "a8cd613d-4b84-48a8-b934-03770ba8217a",
   "metadata": {},
   "outputs": [
    {
     "data": {
      "text/plain": [
       "array([[  1265.1213,   1264.782 ,   1264.4459, ...,   1171.4861,\n",
       "          1171.4471,   1171.4087],\n",
       "       [  1265.5377,   1265.1971,   1264.8599, ...,   1171.9253,\n",
       "          1171.888 ,   1171.8508],\n",
       "       [  1265.9542,   1265.6125,   1265.2739, ...,   1172.3647,\n",
       "          1172.3286,   1172.293 ],\n",
       "       ...,\n",
       "       [-21816.    , -21816.    , -21816.    , ..., -21816.    ,\n",
       "        -21816.    , -21816.    ],\n",
       "       [-21816.    , -21816.    , -21816.    , ..., -21816.    ,\n",
       "        -21816.    , -21816.    ],\n",
       "       [-21816.    , -21816.    , -21816.    , ..., -21816.    ,\n",
       "        -21816.    , -21816.    ]], dtype=float32)"
      ]
     },
     "execution_count": 19,
     "metadata": {},
     "output_type": "execute_result"
    }
   ],
   "source": [
    "(90 + LAT)*numrow/180.0"
   ]
  },
  {
   "cell_type": "code",
   "execution_count": 20,
   "id": "3ade5424-9a24-4847-ba02-4f2cb78cc27b",
   "metadata": {},
   "outputs": [
    {
     "data": {
      "text/plain": [
       "array([[ -37.28661 ,  -37.30075 ,  -37.314754, ...,  -41.18808 ,\n",
       "         -41.1897  ,  -41.191303],\n",
       "       [ -37.26926 ,  -37.28345 ,  -37.29751 , ...,  -41.169777,\n",
       "         -41.171337,  -41.172882],\n",
       "       [ -37.251907,  -37.266148,  -37.280254, ...,  -41.15147 ,\n",
       "         -41.152977,  -41.15446 ],\n",
       "       ...,\n",
       "       [-999.      , -999.      , -999.      , ..., -999.      ,\n",
       "        -999.      , -999.      ],\n",
       "       [-999.      , -999.      , -999.      , ..., -999.      ,\n",
       "        -999.      , -999.      ],\n",
       "       [-999.      , -999.      , -999.      , ..., -999.      ,\n",
       "        -999.      , -999.      ]], dtype=float32)"
      ]
     },
     "execution_count": 20,
     "metadata": {},
     "output_type": "execute_result"
    }
   ],
   "source": [
    "LAT"
   ]
  },
  {
   "cell_type": "code",
   "execution_count": null,
   "id": "af40b0fc-5503-42bc-9e27-96f45b386c75",
   "metadata": {},
   "outputs": [],
   "source": []
  },
  {
   "cell_type": "markdown",
   "id": "51fd2058-fcc2-44e2-9797-d2336027d9c6",
   "metadata": {},
   "source": [
    "## Calculamos el binneado y los estadísticos"
   ]
  },
  {
   "cell_type": "code",
   "execution_count": 21,
   "id": "88852416-32bd-44e8-b238-ab5e458f5eb2",
   "metadata": {},
   "outputs": [],
   "source": [
    "numrow = 4320\n",
    "totbins, basebin, numbin, latbin = initbin(numrow)"
   ]
  },
  {
   "cell_type": "code",
   "execution_count": 25,
   "id": "340a1fb4-b54e-4828-884a-80f12f9f830b",
   "metadata": {},
   "outputs": [
    {
     "name": "stdout",
     "output_type": "stream",
     "text": [
      "CPU times: user 2.23 s, sys: 196 ms, total: 2.43 s\n",
      "Wall time: 2.43 s\n"
     ]
    }
   ],
   "source": [
    "%%time\n",
    "LAT = l2modis['navigation_data']['latitude'][:]\n",
    "LON = l2modis['navigation_data']['longitude'][:]\n",
    "NVARS = len(modisprod)\n",
    "SUMX, SUMXX, SUMX2, SUMXX2, N, W, NSEG = get_spatial_bin_vectorized(NVARS, LAT, LON, numrow, numbin, basebin, l2modis, modisprod)"
   ]
  },
  {
   "cell_type": "code",
   "execution_count": 26,
   "id": "e68557b8-cb3d-47f5-a0fa-fb59006071fd",
   "metadata": {},
   "outputs": [
    {
     "data": {
      "text/plain": [
       "(23761676, 20)"
      ]
     },
     "execution_count": 26,
     "metadata": {},
     "output_type": "execute_result"
    }
   ],
   "source": [
    "SUMX.shape"
   ]
  },
  {
   "cell_type": "code",
   "execution_count": null,
   "id": "72b24d82-4c35-4ae1-a00a-a25ec3191956",
   "metadata": {},
   "outputs": [],
   "source": []
  }
 ],
 "metadata": {
  "kernelspec": {
   "display_name": "Python 3 (ipykernel)",
   "language": "python",
   "name": "python3"
  },
  "language_info": {
   "codemirror_mode": {
    "name": "ipython",
    "version": 3
   },
   "file_extension": ".py",
   "mimetype": "text/x-python",
   "name": "python",
   "nbconvert_exporter": "python",
   "pygments_lexer": "ipython3",
   "version": "3.9.12"
  }
 },
 "nbformat": 4,
 "nbformat_minor": 5
}
