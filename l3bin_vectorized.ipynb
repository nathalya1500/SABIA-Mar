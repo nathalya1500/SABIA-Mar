{
 "cells": [
  {
   "cell_type": "code",
   "execution_count": 1,
   "id": "1fc9eb3b-a3d4-4ed5-9813-93bf251b3f64",
   "metadata": {},
   "outputs": [],
   "source": [
    "import numpy as np\n",
    "import pandas as pd\n",
    "import matplotlib.pyplot as plt\n",
    "import h5py as h5\n",
    "from tqdm import tqdm\n",
    "import warnings\n",
    "import time\n",
    "warnings.filterwarnings('ignore')"
   ]
  },
  {
   "cell_type": "markdown",
   "id": "e706bf42-1b73-490b-b45f-5342afaab62a",
   "metadata": {},
   "source": [
    "# Funciones para binnear"
   ]
  },
  {
   "cell_type": "code",
   "execution_count": 2,
   "id": "62c83e29-246a-48c4-9440-de260dbc4a84",
   "metadata": {},
   "outputs": [],
   "source": [
    "def initbin(numrows):\n",
    "\n",
    "    '''\n",
    "    calcula la cantidad de bines en base a la resolución espacial que se vaya a utilizar.\n",
    "    input:\n",
    "    numrows ---> Número de filas en la grilla. Este número depende de la resolución espacial que se vaya a emplear.\n",
    "\n",
    "    output:\n",
    "    totbins ---> Número posible de bines en la grilla\n",
    "    basebin ---> Lista que contiene el número (identificador) del primer bin de cada fila. Con tamaño igual al número de filas\n",
    "    numbin  ---> Lista que contiene el número total de bines posible en cada fila. Con tamaño igual al número de filas\n",
    "    latbin  ---> Lista que contiene la latitud del primer bin de cada fila (centro del bin). Con tamaño igual al número de filas\n",
    "    '''\n",
    "\n",
    "    basebin = np.zeros((numrows,))\n",
    "    latbin = np.zeros((numrows,))\n",
    "    numbin = np.zeros((numrows,))\n",
    "    basebin[0] = 1\n",
    "    for row in range(numrows):\n",
    "        latbin[row] = ((row + 0.5)*180.0/numrows) - 90.0\n",
    "        numbin[row] = int(2*numrows*np.cos(latbin[row]*np.pi/180.0) + 0.5)\n",
    "        if(row > 0):\n",
    "            basebin[row] = basebin[row - 1] + numbin[row - 1]\n",
    "    totbins = basebin[numrows - 1] + numbin[numrows - 1] - 1  \n",
    "    return totbins, basebin, numbin, latbin"
   ]
  },
  {
   "cell_type": "code",
   "execution_count": 3,
   "id": "31271469-2878-43fb-94c0-8510c8becfe1",
   "metadata": {},
   "outputs": [],
   "source": [
    "def lat2row(lat, numrows):\n",
    "\n",
    "    '''\n",
    "    Identifica la fila que le corresponde a una latitud dada\n",
    "    Para calcular la fila que le corresponde a una cierta latitud, tomo esa latitud y le \n",
    "    sumo 90 (porque el rango en el que se mueven las latitudes es de -90 (Sur) a 90 (Norte))\n",
    "    y lo multiplico por la cantidad total de las filas en la grilla dividido en 180 (90 del \n",
    "    hemisferio Sur) y (90 del hemisferio Norte)\n",
    "\n",
    "    input:\n",
    "    lat    ---> Latitud del pixel\n",
    "    numrow ---> Número de filas en la grilla. Este número depende de la resolución espacial que se vaya a emplear.\n",
    "\n",
    "    output:\n",
    "    row    ---> Fila de la grilla donde cae el pixel \n",
    "\n",
    "    '''\n",
    "    row = 0*lat\n",
    "    row = (90 + lat)*numrows/180.0\n",
    "    row = row.astype(int)\n",
    "    row[row>=numrows] = numrows - 1\n",
    "    return row"
   ]
  },
  {
   "cell_type": "code",
   "execution_count": 4,
   "id": "7edd3686-46bc-4a3e-bf4b-90a74a99ca0c",
   "metadata": {},
   "outputs": [],
   "source": [
    "def constrain_lon(lon):\n",
    "\n",
    "    '''\n",
    "    Es un condicionante para las longitudes, si la longitud es mayor a 180\n",
    "    o menor a -180 lo acomoda dentro del rango [-180, 180]\n",
    "\n",
    "    input:\n",
    "    lon  ---> longitud del pixel\n",
    "\n",
    "    ouput:\n",
    "    lon  ---> longitud del pixel reordenado si está fuera de rango\n",
    "    '''\n",
    "    lon[lon < -180] = lon[lon < -180] % 180\n",
    "    lon[lon>180] = lon[lon>180] % -180\n",
    "    # while(lon < -180):\n",
    "    #     lon += 360\n",
    "    # while(lon >  180):\n",
    "    #     lon -= 360 \n",
    "    return lon"
   ]
  },
  {
   "cell_type": "code",
   "execution_count": 5,
   "id": "f09e0a8e-a4ed-4b50-9389-7b844f056d8b",
   "metadata": {},
   "outputs": [],
   "source": [
    "def rowlon2bin(row, lon, numbin, basebin):\n",
    "    \n",
    "    '''\n",
    "    Identifica el número del bin que corresponde a una cierta longitud \n",
    "\n",
    "    input:\n",
    "    row     ---> Fila donde se encuenrta el pixel en base a su latitud\n",
    "    lon     ---> longitud del pixel\n",
    "    numbin  ---> número de bines en esa fila\n",
    "    basebin ---> primer bin de esa fila\n",
    "\n",
    "    output:\n",
    "    binlon ---> número del bin\n",
    "\n",
    "    '''\n",
    "    lon = constrain_lon(lon)\n",
    "    col = ((lon + 180.0)*numbin[row]/360.0)\n",
    "    col = col.astype(int)\n",
    "    mask = np.where(col >= numbin[row])\n",
    "    col[mask] = numbin[row[mask]] - 1 \n",
    "    # if(col >= numbin[row]):\n",
    "    #     col = numbin[row] - 1\n",
    "\n",
    "    return basebin[row] + col"
   ]
  },
  {
   "cell_type": "code",
   "execution_count": 6,
   "id": "fda6990b-dd2c-4f61-a45b-ddb699ef47d7",
   "metadata": {
    "tags": []
   },
   "outputs": [],
   "source": [
    "def constrain_lat(lat):\n",
    "\n",
    "    '''\n",
    "    Es un condicionante para las latitudes, si la latitud es mayor a 90\n",
    "    o menor a -90 lo acomoda dentro del rango [-90, 90]\n",
    "\n",
    "    input:\n",
    "    lat  ---> latitud del pixel\n",
    "\n",
    "    ouput:\n",
    "    lat  ---> latitud del pixel reordenado si está fuera de rango\n",
    "    '''\n",
    "\n",
    "\n",
    "    lat[lat>90] = 90\n",
    "    lat[lat<-90] = -90\n",
    "    # if(lat >  90):\n",
    "    #     lat = 90\n",
    "    # if(lat < -90): \n",
    "    #     lat = -90 \n",
    "    return lat"
   ]
  },
  {
   "cell_type": "code",
   "execution_count": 7,
   "id": "c8200600-6074-4eac-a36f-f53b94202d8b",
   "metadata": {
    "tags": []
   },
   "outputs": [],
   "source": [
    "def latlon2bin(numrow,lat,lon,numbin,basebin):\n",
    "\n",
    "    '''\n",
    "    Calcula el bin dada una latitud y longitud\n",
    "\n",
    "    input:\n",
    "    numrow  ---> Número de filas en la grilla. Este número depende de la resolución espacial que se vaya a emplear.\n",
    "    lat     ---> latitud del pixel\n",
    "    lon     ---> longitud del pixel\n",
    "    numbin  ---> numero de bines en la fila\n",
    "    basebin ---> primer bin de la fila\n",
    "\n",
    "    ouput:\n",
    "    binlon  ---> bin donde cae el pixel \n",
    "    '''\n",
    "\n",
    "    lat = constrain_lat(lat)\n",
    "    lon = constrain_lon(lon)\n",
    "\n",
    "    row = lat2row(lat, numrow)\n",
    "    binlon = rowlon2bin(row, lon, numbin, basebin)\n",
    "\n",
    "    return binlon"
   ]
  },
  {
   "cell_type": "code",
   "execution_count": 8,
   "id": "83ad11be-05fd-44ac-b451-1cf7a457d913",
   "metadata": {},
   "outputs": [],
   "source": [
    "# Falta vectorizar\n",
    "def bin2latlon (_bin, numrows, basebin, numbin, latbin):\n",
    "\n",
    "    \n",
    "    '''\n",
    "\n",
    "    La función bin2latlon calcula la latitud y la longitud dado un bin.\n",
    "    La latitud y la longitud calculadas son del centro del bin\n",
    "    Esta función necesita: el bin(identificador),el número de filas donde se ubica el bin, el primer bin(identificador) de la fila y la latitud del primer bin de la fila\n",
    "    La latitud (central) del bin a calcular siempre sera la misma que la del primer bin de la fila, puesto que la latitud no cambia\n",
    "    La longitud es calculada diviendo 360 en la cantidad de bines de la fila. Esto genera la distancia \n",
    "    entre cada bin. Este valor se multiplica por el bin analizado menos el primer bin de la fila y se \n",
    "    le suma 0.5 (para encontrar el centro del bin). Finalmente a esta operación se le resta 180 (para encontrar el hemismerio al que corresponde el bin)\n",
    "\n",
    "\n",
    "    input:\n",
    "    _bin    ---> Número del bin\n",
    "    numrows ---> Número total de filas\n",
    "    basebin ---> Número del primer bin de la fila\n",
    "    numbin  ---> Cantidad de bines de la fila\n",
    "    latbin  ---> latitud del primer bin de la fila ()\n",
    "\n",
    "    ouput:\n",
    "    clat  ---> Centro de la latitud del bin\n",
    "    clon  ---> Centro de la longitud del bin\n",
    "    '''\n",
    "\n",
    "    row = numrows - 1\n",
    "    if(_bin < 1):\n",
    "        _bin = 1\n",
    "\n",
    "    while(_bin < basebin[row]):\n",
    "        row-=1\n",
    "\n",
    "    clat = latbin[row]\n",
    "    clon = 360.0*(_bin - basebin[row] + 0.5)/numbin[row] - 180.0\n",
    "    \n",
    "    return clat,clon\n",
    "\n",
    "def bin2bounds(_bin, numrows, basebin, numbin, latbin):\n",
    "    '''\n",
    "    La función bin2bounds calcula los limites superior, inferior, derecho e izquierdo de cada bin\n",
    "    Los limites superior e inferior de un bin siempre seran iguales para todos los bines de esa misma fila\n",
    "    El limite superior (Norte) se calcula tomando la latitud central del primer bin de la fila analizada y se le suma 90 divido entre la cantidad de filas\n",
    "    El limite inferior (Sur) se calcula tomando la latitud central del primer bin de la fila analizada y se le resta 90 divido entre la cantidad de filas\n",
    "    El limite derecho (Oriente,East) se calcula tomando la longitud del bin analizado (centro) y se le suma 180 divido entre el número de bines de esa fila\n",
    "    El limite izquierdo (Occidente,West) se calcula tomando la longitud del bin analizado (centro)y se le resta 180 divido entre el número de bines de esa fila\n",
    "\n",
    "    input:\n",
    "    _bin    ---> Número del bin\n",
    "    numrows ---> Número total de filas\n",
    "    basebin ---> Número del primer bin de la fila\n",
    "    numbin  ---> Cantidad de bines de la fila\n",
    "    latbin  ---> latitud del primer bin de la fila\n",
    "\n",
    "    output:\n",
    "    north ---> limite norte del bin\n",
    "    south ---> limite sur del bin\n",
    "    west  ---> limite oeste del bin\n",
    "    east  ---> limite este del bin\n",
    "    '''\n",
    "    row = numrows - 1\n",
    "    if(_bin < 1):\n",
    "        _bin = 1\n",
    "\n",
    "    while(_bin < basebin[row]):\n",
    "        row-=1\n",
    "\n",
    "    north = latbin[row] + 90.0/numrows\n",
    "    south = latbin[row] - 90.0/numrows\n",
    "    lon = 360.0*(_bin - basebin[row] + 0.5)/numbin[row] - 180.0\n",
    "    west = lon - 180.0/numbin[row]\n",
    "    east = lon + 180.0/numbin[row]\n",
    "    return north,south,west,east"
   ]
  },
  {
   "cell_type": "markdown",
   "id": "719f1c2a-cb06-476f-8d24-6a7b7979c0ee",
   "metadata": {},
   "source": [
    "# Binneado"
   ]
  },
  {
   "cell_type": "code",
   "execution_count": 9,
   "id": "d09cca61-3a5a-4b4d-b695-bab662dd7907",
   "metadata": {},
   "outputs": [],
   "source": [
    "# def get_obs_data(ds, product_list, row_idx):\n",
    "#     return np.array([ds['geophysical_data'][product_list[i]][row_idx,:] for i in range(len(product_list))]).T    "
   ]
  },
  {
   "cell_type": "code",
   "execution_count": 10,
   "id": "124379d8-f9eb-4ee9-b3b3-4311cec64d9e",
   "metadata": {},
   "outputs": [],
   "source": [
    "# %%time\n",
    "# Nota: get_bin_index se corresponde con la funcion latlon2bin y devuelve el numero del bin al que corresponde dada lat, lon\n",
    "# NSCANS = 3173  # es el nummero de filas del granulo\n",
    "# NPIXEL = 1468 # es el numero de columnas del granulo\n",
    "\n",
    "# def get_stats(NSCANS, NPIXEL, LAT, LON, numrow, numbin, basebin, ds, products):\n",
    "#     for L in tqdm(range(NSCANS)):\n",
    "#         for I in range(NPIXEL):\n",
    "#             #if OBS\n",
    "#             t1 \n",
    "#             IDX = int(latlon2bin(numrow,LAT[L,I],LON[L,I],numbin,basebin))\n",
    "#             OBS = get_obs_data(ds, products, L)\n",
    "#             for J in range(NVARS):\n",
    "#                 XLOG = np.log(OBS[I,J])\n",
    "#                 # print(SUMX[IDX,J], XLOG)\n",
    "#                 SUMX[IDX,J] += XLOG\n",
    "#                 SUMXX[IDX,J] += XLOG*XLOG\n",
    "#             N[IDX] = N[IDX] + 1\n",
    "#             NSEG[IDX] = 1\n",
    "            \n",
    "#     SUMX2 = np.zeros((int(totbins), NVARS))\n",
    "#     SUMXX2 = np.zeros((int(totbins), NVARS))\n",
    "#     for IDX in tqdm(range(int(totbins))):\n",
    "#         if N[IDX] > 0:\n",
    "#             W[IDX] = np.sqrt(N[IDX])\n",
    "#             for J in range(NVARS):\n",
    "#                 SUMX2[IDX, J] = SUMX[IDX, J] / W[IDX]\n",
    "#                 SUMXX2[IDX, J] = SUMXX[IDX, J] / W[IDX]\n",
    "    \n",
    "#     return SUMX, SUMXX, SUMX2, SUMXX2, N, W, NSEG"
   ]
  },
  {
   "cell_type": "code",
   "execution_count": 11,
   "id": "33ba671e-85b5-4c61-81e9-81d1b82e7960",
   "metadata": {},
   "outputs": [],
   "source": [
    "def get_spatial_bin_vectorized(NVARS, lat, lon, numrow, numbin, basebin, ds, products):\n",
    "\n",
    "    '''\n",
    "    Identifica todos los pixeles que caen dentro de un bin y calcula los estadisticos\n",
    "\n",
    "    input:\n",
    "    NVARS\n",
    "    lat     ---> latitud del pixel\n",
    "    lon     ---> longitud del pixel\n",
    "    numrow  ---> Número de filas en la grilla. Este número depende de la resolución espacial que se vaya a emplear.\n",
    "    numbin  ---> numero de bines en la fila\n",
    "    basebin ---> primer bin de la fila\n",
    "    ds\n",
    "    products\n",
    "\n",
    "    output:\n",
    "    idx    ---> Lista que contiene los números de los bines\n",
    "    XLOG   ---> Logaritmos de los productos asociado a un bin\n",
    "    XXLOG  ---> Logaritmos de los productos al cuadrado de cada bin\n",
    "    SUMX   ---> Suma de los logaritmos de las variables de los pixeles que caen dentro de un bin\n",
    "    SUMXX  ---> Suma de los logaritmos al cuadrado de las variables de los pixeles que se encuentran en un mismo bin\n",
    "    SUMXW  ---> Promedio de los logaritmos de las variables de los pixeles que se encuentran en un mismo bin\n",
    "    SUMXXW ---> Promedio del cuadrado de los logaritmos de las variables de los pixeles que se encuentran en un mismo bin\n",
    "    N      ---> Representa el numero de valores sumados dentro de SUMX y SUMXX para todas las variables y para idx (cantidad de pixeles que caen dentro de un bin)\n",
    "    W      ---> Representa el peso para todos las variables para cada bin dado, calculado como la raiz cuadrada de N\n",
    "    NSEG   ---> Represernta el número de escenas nivel 2\n",
    "    '''\n",
    "    SUMX = np.zeros((int(totbins), NVARS))\n",
    "    SUMXX = np.zeros((int(totbins), NVARS))\n",
    "    SUMXw = np.zeros((int(totbins), NVARS))\n",
    "    SUMXXw = np.zeros((int(totbins), NVARS))\n",
    "    N =  np.zeros((int(totbins), ))\n",
    "    W =  np.zeros((int(totbins), ))\n",
    "    NSEG = np.zeros((int(totbins), ))\n",
    "    TT = np.zeros((int(totbins), ))\n",
    "    \n",
    "    idx = latlon2bin(numrow, lat, lon, numbin, basebin)\n",
    "    idx = idx.astype(int)\n",
    "    prod_stack = np.stack(ds['geophysical_data'][products[i]][:] for i in range(len(products)))\n",
    "    prod_rolled = np.rollaxis(np.rollaxis(prod_stack, 1,0), 2,1)\n",
    "    XLOG = np.log(prod_rolled)\n",
    "    XXLOG = XLOG * XLOG\n",
    "    \n",
    "    unique, count = np.unique(idx, return_counts=True)\n",
    "\n",
    "    for indice,count in zip(unique, count):\n",
    "        m = np.where(idx == indice)\n",
    "        coord = list(zip(m[0],m[1]))     \n",
    "        \n",
    "        for i in range(NVARS):\n",
    "            for c in coord:\n",
    "                if ~np.isnan(XLOG[c[0],c[1],i]):\n",
    "                    SUMX[indice, i] = SUMX[indice, i] + XLOG[c[0], c[1], i]\n",
    "                    \n",
    "                if ~np.isnan(XXLOG[c[0],c[1],i]):\n",
    "                    SUMXX[indice, i] = SUMXX[indice, i] + XXLOG[c[0], c[1], i]\n",
    "            \n",
    "        N[indice] = count\n",
    "        W[indice] = np.sqrt(count)\n",
    "        \n",
    "        SUMXw[indice] = SUMX[indice] / W[indice]\n",
    "        SUMXXw[indice]= SUMXX[indice]/W[indice]\n",
    "    \n",
    "    \n",
    "    return idx, XLOG,  SUMX, SUMXX, SUMXw, SUMXXw, N, W, NSEG      "
   ]
  },
  {
   "cell_type": "markdown",
   "id": "8de8c8c2-cbd2-49e2-8ef0-374357d1c486",
   "metadata": {},
   "source": [
    "# Binneando un L2 de MODIS"
   ]
  },
  {
   "cell_type": "markdown",
   "id": "2d5c681c-d822-4b5c-a45e-537a3defbf04",
   "metadata": {},
   "source": [
    "## Exploremos el netCDF de MODIS"
   ]
  },
  {
   "cell_type": "code",
   "execution_count": 12,
   "id": "c1303b52-c3ef-4037-a35f-67ef6abf6272",
   "metadata": {},
   "outputs": [
    {
     "data": {
      "text/plain": [
       "<KeysViewHDF5 ['bands_per_pixel', 'geophysical_data', 'navigation_data', 'number_of_bands', 'number_of_lines', 'number_of_reflective_bands', 'pixel_control_points', 'pixels_per_line', 'processing_control', 'scan_line_attributes', 'sensor_band_parameters']>"
      ]
     },
     "execution_count": 12,
     "metadata": {},
     "output_type": "execute_result"
    }
   ],
   "source": [
    "file = './A2022160171000.L2_LAC_OC.nc'\n",
    "l2modis = h5.File(file,'r')\n",
    "l2modis.keys()"
   ]
  },
  {
   "cell_type": "code",
   "execution_count": 13,
   "id": "71e37312-a959-4cc3-ba87-2ef511c73990",
   "metadata": {},
   "outputs": [
    {
     "data": {
      "text/plain": [
       "<KeysViewHDF5 ['longitude', 'latitude', 'cntl_pt_cols', 'cntl_pt_rows', 'tilt']>"
      ]
     },
     "execution_count": 13,
     "metadata": {},
     "output_type": "execute_result"
    }
   ],
   "source": [
    "l2modis['navigation_data'].keys()"
   ]
  },
  {
   "cell_type": "code",
   "execution_count": 14,
   "id": "28c9654f-3c4a-46b5-934a-0be226ec2df0",
   "metadata": {},
   "outputs": [
    {
     "data": {
      "text/plain": [
       "<KeysViewHDF5 ['aot_869', 'angstrom', 'Rrs_412', 'Rrs_443', 'Rrs_469', 'Rrs_488', 'Rrs_531', 'Rrs_547', 'Rrs_555', 'Rrs_645', 'Rrs_667', 'Rrs_678', 'chlor_a', 'chl_ocx', 'Kd_490', 'pic', 'poc', 'ipar', 'nflh', 'par', 'l2_flags']>"
      ]
     },
     "execution_count": 14,
     "metadata": {},
     "output_type": "execute_result"
    }
   ],
   "source": [
    "modisprod = list(l2modis['geophysical_data'].keys())[:-1]\n",
    "l2modis['geophysical_data'].keys()"
   ]
  },
  {
   "cell_type": "code",
   "execution_count": 15,
   "id": "a5b3756a-37e2-4981-8a90-60a96fd3827e",
   "metadata": {},
   "outputs": [
    {
     "data": {
      "text/plain": [
       "1354"
      ]
     },
     "execution_count": 15,
     "metadata": {},
     "output_type": "execute_result"
    }
   ],
   "source": [
    "l2modis['pixels_per_line'][:].size"
   ]
  },
  {
   "cell_type": "code",
   "execution_count": 16,
   "id": "1443276c-89c4-49cd-b739-13b4d3507149",
   "metadata": {},
   "outputs": [
    {
     "data": {
      "text/plain": [
       "(2030, 1354)"
      ]
     },
     "execution_count": 16,
     "metadata": {},
     "output_type": "execute_result"
    }
   ],
   "source": [
    "l2modis['navigation_data']['longitude'].shape"
   ]
  },
  {
   "cell_type": "code",
   "execution_count": 17,
   "id": "fffc3e84-935e-4a98-83ad-235c3c92fe58",
   "metadata": {},
   "outputs": [],
   "source": [
    "numrow = 4320\n",
    "\n",
    "LAT = l2modis['navigation_data']['latitude'][:]\n",
    "LON = l2modis['navigation_data']['longitude'][:]"
   ]
  },
  {
   "cell_type": "code",
   "execution_count": 18,
   "id": "a8f7cd11-55aa-40ce-851d-53c8c531b638",
   "metadata": {},
   "outputs": [
    {
     "data": {
      "text/plain": [
       "array([[  1265,   1264,   1264, ...,   1171,   1171,   1171],\n",
       "       [  1265,   1265,   1264, ...,   1171,   1171,   1171],\n",
       "       [  1265,   1265,   1265, ...,   1172,   1172,   1172],\n",
       "       ...,\n",
       "       [-21816, -21816, -21816, ..., -21816, -21816, -21816],\n",
       "       [-21816, -21816, -21816, ..., -21816, -21816, -21816],\n",
       "       [-21816, -21816, -21816, ..., -21816, -21816, -21816]])"
      ]
     },
     "execution_count": 18,
     "metadata": {},
     "output_type": "execute_result"
    }
   ],
   "source": [
    "lat2row(LAT, numrow)"
   ]
  },
  {
   "cell_type": "code",
   "execution_count": 19,
   "id": "a8cd613d-4b84-48a8-b934-03770ba8217a",
   "metadata": {},
   "outputs": [
    {
     "data": {
      "text/plain": [
       "array([[  1265.1213,   1264.782 ,   1264.4459, ...,   1171.4861,\n",
       "          1171.4471,   1171.4087],\n",
       "       [  1265.5377,   1265.1971,   1264.8599, ...,   1171.9253,\n",
       "          1171.888 ,   1171.8508],\n",
       "       [  1265.9542,   1265.6125,   1265.2739, ...,   1172.3647,\n",
       "          1172.3286,   1172.293 ],\n",
       "       ...,\n",
       "       [-21816.    , -21816.    , -21816.    , ..., -21816.    ,\n",
       "        -21816.    , -21816.    ],\n",
       "       [-21816.    , -21816.    , -21816.    , ..., -21816.    ,\n",
       "        -21816.    , -21816.    ],\n",
       "       [-21816.    , -21816.    , -21816.    , ..., -21816.    ,\n",
       "        -21816.    , -21816.    ]], dtype=float32)"
      ]
     },
     "execution_count": 19,
     "metadata": {},
     "output_type": "execute_result"
    }
   ],
   "source": [
    "(90 + LAT)*numrow/180.0"
   ]
  },
  {
   "cell_type": "code",
   "execution_count": 20,
   "id": "3ade5424-9a24-4847-ba02-4f2cb78cc27b",
   "metadata": {},
   "outputs": [
    {
     "data": {
      "text/plain": [
       "array([[ -37.28661 ,  -37.30075 ,  -37.314754, ...,  -41.18808 ,\n",
       "         -41.1897  ,  -41.191303],\n",
       "       [ -37.26926 ,  -37.28345 ,  -37.29751 , ...,  -41.169777,\n",
       "         -41.171337,  -41.172882],\n",
       "       [ -37.251907,  -37.266148,  -37.280254, ...,  -41.15147 ,\n",
       "         -41.152977,  -41.15446 ],\n",
       "       ...,\n",
       "       [-999.      , -999.      , -999.      , ..., -999.      ,\n",
       "        -999.      , -999.      ],\n",
       "       [-999.      , -999.      , -999.      , ..., -999.      ,\n",
       "        -999.      , -999.      ],\n",
       "       [-999.      , -999.      , -999.      , ..., -999.      ,\n",
       "        -999.      , -999.      ]], dtype=float32)"
      ]
     },
     "execution_count": 20,
     "metadata": {},
     "output_type": "execute_result"
    }
   ],
   "source": [
    "LAT"
   ]
  },
  {
   "cell_type": "markdown",
   "id": "51fd2058-fcc2-44e2-9797-d2336027d9c6",
   "metadata": {},
   "source": [
    "## Calculamos el binneado y los estadísticos"
   ]
  },
  {
   "cell_type": "code",
   "execution_count": 21,
   "id": "88852416-32bd-44e8-b238-ab5e458f5eb2",
   "metadata": {},
   "outputs": [],
   "source": [
    "numrow = 4320\n",
    "totbins, basebin, numbin, latbin = initbin(numrow)"
   ]
  },
  {
   "cell_type": "code",
   "execution_count": 22,
   "id": "340a1fb4-b54e-4828-884a-80f12f9f830b",
   "metadata": {},
   "outputs": [
    {
     "name": "stdout",
     "output_type": "stream",
     "text": [
      "CPU times: user 41min 1s, sys: 1.7 s, total: 41min 3s\n",
      "Wall time: 41min 16s\n"
     ]
    }
   ],
   "source": [
    "%%time\n",
    "LAT = l2modis['navigation_data']['latitude'][:]\n",
    "LON = l2modis['navigation_data']['longitude'][:]\n",
    "NVARS = len(modisprod)\n",
    "idx, XLOG,  SUMX, SUMXX, SUMXw, SUMXXw, N, W, NSEG = get_spatial_bin_vectorized(NVARS, LAT, LON, numrow, numbin, basebin, l2modis, modisprod)"
   ]
  },
  {
   "cell_type": "code",
   "execution_count": 23,
   "id": "e68557b8-cb3d-47f5-a0fa-fb59006071fd",
   "metadata": {},
   "outputs": [
    {
     "data": {
      "text/plain": [
       "(23761676, 20)"
      ]
     },
     "execution_count": 23,
     "metadata": {},
     "output_type": "execute_result"
    }
   ],
   "source": [
    "SUMX.shape"
   ]
  },
  {
   "cell_type": "code",
   "execution_count": 24,
   "id": "72b24d82-4c35-4ae1-a00a-a25ec3191956",
   "metadata": {},
   "outputs": [],
   "source": [
    "c = SUMX[:, 12]"
   ]
  },
  {
   "cell_type": "code",
   "execution_count": null,
   "id": "5e0a6346",
   "metadata": {},
   "outputs": [],
   "source": []
  }
 ],
 "metadata": {
  "kernelspec": {
   "display_name": "Python 3 (ipykernel)",
   "language": "python",
   "name": "python3"
  },
  "language_info": {
   "codemirror_mode": {
    "name": "ipython",
    "version": 3
   },
   "file_extension": ".py",
   "mimetype": "text/x-python",
   "name": "python",
   "nbconvert_exporter": "python",
   "pygments_lexer": "ipython3",
   "version": "3.10.6"
  },
  "vscode": {
   "interpreter": {
    "hash": "916dbcbb3f70747c44a77c7bcd40155683ae19c65e1c03b4aa3499c5328201f1"
   }
  }
 },
 "nbformat": 4,
 "nbformat_minor": 5
}
